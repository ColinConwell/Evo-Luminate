{
 "cells": [
  {
   "cell_type": "markdown",
   "id": "664874e2",
   "metadata": {},
   "source": [
    "## Evolutionary search for creative artifacts: concepts-first walkthrough\n",
    "\n",
    "This notebook explains the evolutionary ideas driving Evo-Luminate, using short code snippets only to illustrate the concepts. We’ll focus on:\n",
    "\n",
    "- Representation: what is an “artifact,” genotype vs. phenotype\n",
    "- Initialization: creating diverse seeds\n",
    "- Variation: generating children (mutation/crossover) as idea proposals\n",
    "- Evaluation: embedding artifacts and measuring diversity\n",
    "- Selection: k-NN novelty as the fitness signal\n",
    "- Iteration: logging, reproducibility, and parallelism\n",
    "\n",
    "We’ll use a tiny dummy artifact so the conceptual steps run fast and are easy to interpret.\n"
   ]
  },
  {
   "cell_type": "code",
   "execution_count": 1,
   "id": "19a378fa",
   "metadata": {},
   "outputs": [
    {
     "name": "stdout",
     "output_type": "stream",
     "text": [
      "Loaded 7 creativity strategies\n",
      "Device: mps\n"
     ]
    }
   ],
   "source": [
    "import os, json, random\n",
    "import torch, numpy as np\n",
    "\n",
    "from src import run_evolution_experiment as ree\n",
    "from src.population import Population\n",
    "from src.utils import get_device\n",
    "\n",
    "print(\"Device:\", get_device())\n",
    "\n"
   ]
  },
  {
   "cell_type": "markdown",
   "id": "f114f0e8",
   "metadata": {},
   "source": [
    "### The evolutionary loop, conceptually\n",
    "- We maintain a population of artifacts (genotypes as text/code, phenotypes as images or renderings).\n",
    "- Each generation:\n",
    "  1) Select parents and propose children (variation via mutation/crossover prompts or operators)\n",
    "  2) Evaluate artifacts by embedding them in a vector space (text/image encoders)\n",
    "  3) Select the next generation by novelty: keep artifacts most distant from neighbors\n",
    "- Repeat for a fixed number of generations, logging intermediate metrics.\n",
    "\n",
    "In code, all of this is orchestrated by `run_evolution_experiment(config)`, but the key is the idea: we reward diversity (novelty) rather than a fixed scalar fitness.\n"
   ]
  },
  {
   "cell_type": "code",
   "execution_count": 2,
   "id": "3db6c02b",
   "metadata": {},
   "outputs": [
    {
     "name": "stdout",
     "output_type": "stream",
     "text": [
      "Patched get_artifact_class -> DummyArtifact\n"
     ]
    }
   ],
   "source": [
    "class DummyArtifact:\n",
    "    name = \"dummy\"\n",
    "\n",
    "    def __init__(self, vec):\n",
    "        self.id = f\"d{hash(tuple(vec)) % 100000}\"\n",
    "        self.genome = \"GENOME\"\n",
    "        self.phenome = None\n",
    "        self.prompt = None\n",
    "        self.embedding = torch.tensor(vec, dtype=torch.float32)\n",
    "        self.metadata = {}\n",
    "\n",
    "    @classmethod\n",
    "    def create_from_prompt(cls, prompt: str, output_dir: str, **kwargs):\n",
    "        # deterministic base vectors\n",
    "        bases = [[1,0,0],[0,1,0],[0,0,1]]\n",
    "        idx = random.randint(0, len(bases)-1)\n",
    "        return cls(bases[idx])\n",
    "\n",
    "    def compute_embedding(self) -> torch.Tensor:\n",
    "        return self.embedding\n",
    "\n",
    "# Monkeypatch the artifact class factory used by the algorithm\n",
    "from src.artifacts.load_artifacts import get_artifact_class as real_get_artifact_class\n",
    "\n",
    "def fake_get_artifact_class(config):\n",
    "    return DummyArtifact\n",
    "\n",
    "ree.get_artifact_class = fake_get_artifact_class\n",
    "print(\"Patched get_artifact_class -> DummyArtifact\")\n"
   ]
  },
  {
   "cell_type": "markdown",
   "id": "b9229825",
   "metadata": {},
   "source": [
    "### Minimal experiment for illustration\n",
    "We’ll run a minimal configuration to illustrate each concept with intermediate outputs. Small sizes keep the focus on ideas, not performance.\n"
   ]
  },
  {
   "cell_type": "code",
   "execution_count": 3,
   "id": "2a8e201b",
   "metadata": {},
   "outputs": [
    {
     "name": "stdout",
     "output_type": "stream",
     "text": [
      "{\n",
      "  \"random_seed\": 7,\n",
      "  \"prompt\": \"\",\n",
      "  \"initial_population_size\": 6,\n",
      "  \"population_size\": 6,\n",
      "  \"children_per_generation\": 3,\n",
      "  \"num_generations\": 1,\n",
      "  \"k_neighbors\": 2,\n",
      "  \"max_workers\": 2,\n",
      "  \"artifact_class\": \"DummyArtifact\",\n",
      "  \"evolution_mode\": \"variation\",\n",
      "  \"reasoning_effort\": \"low\",\n",
      "  \"use_creative_strategies\": false,\n",
      "  \"use_summary\": false,\n",
      "  \"crossover_rate\": 0.0\n",
      "}\n"
     ]
    }
   ],
   "source": [
    "cfg = {\n",
    "    \"random_seed\": 7,\n",
    "    \"prompt\": \"\",\n",
    "    \"initial_population_size\": 6,\n",
    "    \"population_size\": 6,\n",
    "    \"children_per_generation\": 3,\n",
    "    \"num_generations\": 1,\n",
    "    \"k_neighbors\": 2,\n",
    "    \"max_workers\": 2,\n",
    "    \"artifact_class\": \"DummyArtifact\",\n",
    "    \"evolution_mode\": \"variation\",\n",
    "    \"reasoning_effort\": \"low\",\n",
    "    \"use_creative_strategies\": False,\n",
    "    \"use_summary\": False,\n",
    "    \"crossover_rate\": 0.0,\n",
    "}\n",
    "out_dir = os.path.join(\"results\", \"walkthrough_demo\")\n",
    "if os.path.exists(out_dir):\n",
    "    import shutil\n",
    "    shutil.rmtree(out_dir)\n",
    "os.makedirs(out_dir, exist_ok=True)\n",
    "print(json.dumps(cfg, indent=2))\n"
   ]
  },
  {
   "cell_type": "markdown",
   "id": "16fa068c",
   "metadata": {},
   "source": [
    "### Initialization: diverse seeds\n",
    "We start by generating a diverse initial set of artifacts. Conceptually, this defines the search space we’ll explore. In practice, we create artifacts in parallel to populate the initial generation quickly.\n"
   ]
  },
  {
   "cell_type": "code",
   "execution_count": 4,
   "id": "1bf480d2",
   "metadata": {},
   "outputs": [
    {
     "name": "stdout",
     "output_type": "stream",
     "text": [
      "Population size (post-gen 1): 6\n",
      "Novelty metrics entries: 2\n",
      "Last metrics: {\"generation\": 1, \"timestamp\": \"2025-09-30T23:01:08.727566\", \"avg_distance_to_neighbors\": [0.5, 0.5, 0.5, 0.5, 0.5, 0.5], \"mean_novelty\": 0.5, \"mean_genome_length\": 6.0, \"strategy_metrics\": {\"None\": {\"count\": 5, \"avg_novelty\": 0.5, \"std_novelty\": 0.0}, \"null\": {\"count\": 1, \"avg_novelty\": 0.5, \"std_novelty\": 0.0}}}\n"
     ]
    }
   ],
   "source": [
    "pop = ree.run_evolution_experiment(out_dir, cfg)\n",
    "print(\"Population size (post-gen 1):\", len(pop.get_all()))\n",
    "\n",
    "# Inspect saved metrics\n",
    "with open(os.path.join(out_dir, \"novelty_metrics.jsonl\")) as f:\n",
    "    lines = f.readlines()\n",
    "print(\"Novelty metrics entries:\", len(lines))\n",
    "print(\"Last metrics:\", lines[-1].strip())\n"
   ]
  },
  {
   "cell_type": "markdown",
   "id": "2da6bec7",
   "metadata": {},
   "source": [
    "### Variation and selection\n",
    "- Variation proposes new artifacts by recombining or transforming parents. Here, proposals are generated as new “ideas” rather than strict gene-level operators.\n",
    "- Evaluation uses embeddings (text/image encoders) to place artifacts into a shared vector space.\n",
    "- Selection applies novelty search: keep those most distant from their neighbors (encourages exploration and diversity).\n"
   ]
  },
  {
   "cell_type": "code",
   "execution_count": 5,
   "id": "4c71c929",
   "metadata": {},
   "outputs": [
    {
     "name": "stdout",
     "output_type": "stream",
     "text": [
      "Embeddings shape: (4, 3) , device: mps:0 , dtype: torch.float32\n",
      "Novelty order (indices): [2, 0, 1, 3]\n",
      "Avg distance to k-nearest neighbors: [0.6464465856552124, 0.6464465856552124, 1.0, 0.2928932309150696]\n"
     ]
    }
   ],
   "source": [
    "from src.run_evolution_experiment import get_embeddings\n",
    "from src.population import Population\n",
    "\n",
    "# Create a small hand-crafted population\n",
    "A = DummyArtifact([1,0,0])\n",
    "B = DummyArtifact([0,1,0])\n",
    "C = DummyArtifact([0,0,1])\n",
    "D = DummyArtifact([1,1,0])\n",
    "pop2 = Population()\n",
    "pop2.add_all([A,B,C,D])\n",
    "\n",
    "emb = get_embeddings(pop2.get_all())\n",
    "print(\"Embeddings shape:\", tuple(emb.shape), \", device:\", emb.device, \", dtype:\", emb.dtype)\n",
    "\n",
    "# Compute novelty ordering and inspect distances\n",
    "order, knn_mean = pop2.select_by_novelty(emb, k_neighbors=2, return_distances=True)\n",
    "print(\"Novelty order (indices):\", order)\n",
    "print(\"Avg distance to k-nearest neighbors:\", knn_mean.tolist())"
   ]
  },
  {
   "cell_type": "markdown",
   "id": "6486894a",
   "metadata": {},
   "source": [
    "### Iterate and observe\n",
    "We iterate: initialize → vary → evaluate → select, for a few generations. Along the way we log population snapshots and novelty metrics to understand how diversity evolves.\n"
   ]
  },
  {
   "cell_type": "code",
   "execution_count": 6,
   "id": "f59ff114",
   "metadata": {},
   "outputs": [
    {
     "name": "stdout",
     "output_type": "stream",
     "text": [
      "Final population: 6\n",
      "Files in output dir:\n",
      "['artifacts', 'config.json', 'novelty_metrics.jsonl', 'population_data.jsonl']\n",
      "Artifacts dir exists: True\n",
      "Population log: True\n",
      "Novelty log: True\n"
     ]
    }
   ],
   "source": [
    "cfg2 = dict(cfg)\n",
    "cfg2[\"num_generations\"] = 2\n",
    "out_dir2 = os.path.join(\"results\", \"walkthrough_demo2\")\n",
    "if os.path.exists(out_dir2):\n",
    "    import shutil\n",
    "    shutil.rmtree(out_dir2)\n",
    "os.makedirs(out_dir2, exist_ok=True)\n",
    "\n",
    "pop2 = ree.run_evolution_experiment(out_dir2, cfg2)\n",
    "print(\"Final population:\", len(pop2.get_all()))\n",
    "\n",
    "print(\"Files in output dir:\")\n",
    "print(sorted(os.listdir(out_dir2))[:10])\n",
    "\n",
    "print(\"Artifacts dir exists:\", os.path.exists(os.path.join(out_dir2, \"artifacts\")))\n",
    "print(\"Population log:\", os.path.exists(os.path.join(out_dir2, \"population_data.jsonl\")))\n",
    "print(\"Novelty log:\", os.path.exists(os.path.join(out_dir2, \"novelty_metrics.jsonl\")))\n"
   ]
  },
  {
   "cell_type": "code",
   "execution_count": null,
   "id": "11d4bba4",
   "metadata": {},
   "outputs": [],
   "source": []
  }
 ],
 "metadata": {
  "kernelspec": {
   "display_name": "Primary",
   "language": "python",
   "name": "primary"
  },
  "language_info": {
   "codemirror_mode": {
    "name": "ipython",
    "version": 3
   },
   "file_extension": ".py",
   "mimetype": "text/x-python",
   "name": "python",
   "nbconvert_exporter": "python",
   "pygments_lexer": "ipython3",
   "version": "3.11.11"
  }
 },
 "nbformat": 4,
 "nbformat_minor": 5
}
